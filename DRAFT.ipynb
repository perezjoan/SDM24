{
 "cells": [
  {
   "cell_type": "code",
   "execution_count": null,
   "id": "a5397c57-ec80-4961-802d-b87122a48e4a",
   "metadata": {},
   "outputs": [],
   "source": [
    "# Define ranges for each variable\n",
    "ranges = [\n",
    "    (10, 50),    # Range for Var1\n",
    "    (100, 200),  # Range for Var2\n",
    "    (0, 1),      # Range for Var3\n",
    "    (500, 1000), # Range for Var4\n",
    "    (20, 80),    # Range for Var5\n",
    "    (5, 25),     # Range for Var6\n",
    "    (50, 150),   # Range for Var7\n",
    "    (0, 10)      # Range for Var8\n",
    "]\n",
    "\n",
    "# Adding variables to the GeoDataFrame\n",
    "for i, (low, high) in enumerate(ranges, start=1):\n",
    "    buildings[f'Var{i}'] = np.random.uniform(low, high, len(buildings))\n",
    "\n",
    "# Adding the Cluster5 variable with values between 0 and 4\n",
    "buildings['Cluster5'] = np.random.choice([0, 1, 2, 3, 4], size=len(buildings))"
   ]
  }
 ],
 "metadata": {
  "kernelspec": {
   "display_name": "Python 3 (ipykernel)",
   "language": "python",
   "name": "python3"
  },
  "language_info": {
   "codemirror_mode": {
    "name": "ipython",
    "version": 3
   },
   "file_extension": ".py",
   "mimetype": "text/x-python",
   "name": "python",
   "nbconvert_exporter": "python",
   "pygments_lexer": "ipython3",
   "version": "3.12.3"
  }
 },
 "nbformat": 4,
 "nbformat_minor": 5
}
